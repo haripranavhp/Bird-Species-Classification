{
  "nbformat": 4,
  "nbformat_minor": 0,
  "metadata": {
    "colab": {
      "name": "BSC.ipynb",
      "version": "0.3.2",
      "views": {},
      "default_view": {},
      "provenance": [],
      "collapsed_sections": []
    },
    "kernelspec": {
      "name": "python3",
      "display_name": "Python 3"
    },
    "accelerator": "GPU"
  },
  "cells": [
    {
      "metadata": {
        "id": "m2LqAe3LeNuE",
        "colab_type": "code",
        "colab": {
          "autoexec": {
            "startup": false,
            "wait_interval": 0
          }
        }
      },
      "cell_type": "code",
      "source": [
        "%matplotlib inline\n",
        "import tensorflow as tf\n",
        "import numpy as np\n",
        "import pandas as pd\n",
        "from matplotlib import pyplot as plt\n",
        "from matplotlib import style\n",
        "\n",
        "X = pd.read_csv('feature_martix.csv')\n",
        "Y = pd.read_csv('label_matrix.csv')"
      ],
      "execution_count": 0,
      "outputs": []
    },
    {
      "metadata": {
        "id": "dnMX-9I2eWCG",
        "colab_type": "code",
        "colab": {
          "autoexec": {
            "startup": false,
            "wait_interval": 0
          }
        }
      },
      "cell_type": "code",
      "source": [
        "main_data = pd.concat([X, Y], axis=1)\n",
        "main_data = main_data.reindex(np.random.permutation(X.index))\n",
        "dfs = np.split(main_data, [312], axis=1)\n",
        "X = dfs[0]\n",
        "Y = dfs[1]\n",
        "a = Y.values.reshape(11787)\n",
        "neww = tf.one_hot(a,200)\n",
        "sess = tf.Session()\n",
        "Y = neww.eval(session=sess)"
      ],
      "execution_count": 0,
      "outputs": []
    },
    {
      "metadata": {
        "id": "vpmf9PCde-jj",
        "colab_type": "code",
        "colab": {
          "autoexec": {
            "startup": false,
            "wait_interval": 0
          },
          "output_extras": [
            {
              "item_id": 34
            },
            {
              "item_id": 35
            },
            {
              "item_id": 36
            }
          ],
          "base_uri": "https://localhost:8080/",
          "height": 1140
        },
        "outputId": "7d2ae7f9-e7cb-45a6-f88b-5eaee7d8c955",
        "executionInfo": {
          "status": "ok",
          "timestamp": 1522258522752,
          "user_tz": -330,
          "elapsed": 96097,
          "user": {
            "displayName": "Zahan Shhahana",
            "photoUrl": "https://lh3.googleusercontent.com/a/default-user=s128",
            "userId": "110782925689935483702"
          }
        }
      },
      "cell_type": "code",
      "source": [
        "# hyperparameters\n",
        "lr = 0.0002\n",
        "num_iters = 3300\n",
        "K = 250\n",
        "L = 250\n",
        "n = 11787\n",
        "pkeep = tf.placeholder(tf.float32)\n",
        "\n",
        "# model creation\n",
        "x = tf.placeholder(tf.float32, shape=[None, 312])\n",
        "Y_ = tf.placeholder(tf.float32, shape=[None, 200])\n",
        "\n",
        "\n",
        "w1 = tf.Variable(tf.truncated_normal([312, K], stddev=0.1))\n",
        "b1 = tf.Variable(tf.ones([K]))\n",
        "\n",
        "w2 = tf.Variable(tf.truncated_normal([K, 200], stddev=0.1))\n",
        "b2 = tf.Variable(tf.ones([200]))\n",
        "\n",
        "#w3 = tf.Variable(tf.truncated_normal([L, 200], stddev=0.1))\n",
        "#b3 = tf.Variable(tf.zeros([200]))\n",
        "\n",
        "# layers\n",
        "y1 = tf.nn.relu(tf.matmul(x, w1) + b1)\n",
        "do1 = tf.nn.dropout(y1, pkeep)\n",
        "\n",
        "#y2 = tf.nn.relu(tf.matmul(do1, w2) + b2)\n",
        "#do2 = tf.nn.dropout(y2, pkeep)\n",
        "\n",
        "y = tf.nn.softmax(tf.matmul(do1, w2) + b2)\n",
        "\n",
        "# loss function\n",
        "cross_entropy = -tf.reduce_sum(Y_ * tf.log(y), name = 'cross-entropy')\n",
        " \n",
        "is_correct = tf.equal(tf.argmax(Y_, 1), tf.argmax(y, 1))\n",
        "accuracy = tf.reduce_mean(tf.cast(is_correct, tf.float32))\n",
        "\n",
        "# training algo.\n",
        "train_step = tf.train.AdamOptimizer(learning_rate=lr).minimize(cross_entropy)\n",
        "\n",
        "sess = tf.Session()\n",
        "init = tf.global_variables_initializer()\n",
        "sess.run(init)\n",
        "\n",
        "aaa = []\n",
        "mmm = []\n",
        "ccc = []\n",
        "att = []\n",
        "testccc = []\n",
        "# training\n",
        "for i in range(num_iters):\n",
        "    train_data = {x: X[0:8520], Y_: Y[0:8520], pkeep:0.75}\n",
        "    \n",
        "    sess.run(train_step, feed_dict=train_data)\n",
        "    \n",
        "    atr, c = sess.run([accuracy, cross_entropy], feed_dict=train_data)\n",
        "    \n",
        "    test_data = {x: X[7520:], Y_: Y[7520:], pkeep:1}\n",
        "    at, ac = sess.run([accuracy, cross_entropy], feed_dict=test_data)\n",
        "    \n",
        "    aaa.append(atr)\n",
        "    mmm.append(i)\n",
        "    ccc.append(c)\n",
        "    att.append(at)\n",
        "    testccc.append(ac)\n",
        "    \n",
        "    if(i%100 == 0):\n",
        "      print(i, atr, c)\n",
        "\n",
        "print('Accuracy on training set is ', atr)\n",
        "\n",
        "print('Accuracy on test set is', at)\n",
        "\n",
        "style.use('ggplot')\n",
        "plt.plot(mmm,aaa,color='b',label='training')\n",
        "plt.plot(mmm,att,color='r',label='testing')\n",
        "plt.xlabel('Num Iters')\n",
        "plt.ylabel('Accuracy')\n",
        "plt.legend()\n",
        "plt.show()\n",
        "plt.plot(mmm,ccc,color='b',label='training')\n",
        "plt.plot(mmm, testccc,color='r', label='testing')\n",
        "plt.xlabel('Num Iters')\n",
        "plt.ylabel('Cross-Entropy')\n",
        "plt.legend()\n",
        "plt.show()"
      ],
      "execution_count": 147,
      "outputs": [
        {
          "output_type": "stream",
          "text": [
            "0 0.0046948357 56559.684\n",
            "100 0.06760564 40224.45\n",
            "200 0.20492958 31897.799\n",
            "300 0.31807512 25898.574\n",
            "400 0.4043427 21893.52\n",
            "500 0.47488263 18820.016\n",
            "600 0.52769953 16629.78\n",
            "700 0.56596243 14972.74\n",
            "800 0.5995305 13586.751\n",
            "900 0.62065727 12571.948\n",
            "1000 0.6532864 11536.439\n",
            "1100 0.6690141 10753.497\n",
            "1200 0.6976526 10013.795\n",
            "1300 0.7106807 9401.833\n",
            "1400 0.7300469 8780.498\n",
            "1500 0.74776995 8213.732\n",
            "1600 0.76115024 7765.8594\n",
            "1700 0.7754695 7285.199\n",
            "1800 0.77758217 7012.6157\n",
            "1900 0.79964787 6495.7114\n",
            "2000 0.803169 6275.5176\n",
            "2100 0.81408453 5882.683\n",
            "2200 0.8221831 5603.6816\n",
            "2300 0.8335681 5252.247\n",
            "2400 0.83685446 5062.2964\n",
            "2500 0.84424883 4829.679\n",
            "2600 0.8577465 4524.5825\n",
            "2700 0.86549294 4269.1035\n",
            "2800 0.87147886 4086.4177\n",
            "2900 0.8720657 3920.1501\n",
            "3000 0.88192487 3705.9946\n",
            "3100 0.88568074 3581.234\n",
            "3200 0.890493 3390.0435\n",
            "Accuracy on training set is  0.89870894\n",
            "Accuracy on test set is 0.61776423\n"
          ],
          "name": "stdout"
        },
        {
          "output_type": "display_data",
          "data": {
            "image/png": "[encoded data removed]",
            "text/plain": [
              "<matplotlib.figure.Figure at 0x7f8968a8dc50>"
            ]
          },
          "metadata": {
            "tags": []
          }
        },
        {
          "output_type": "display_data",
          "data": {
            "image/png": "[encoded data removed]",
            "text/plain": [
              "<matplotlib.figure.Figure at 0x7f890b646940>"
            ]
          },
          "metadata": {
            "tags": []
          }
        }
      ]
    },
    {
      "metadata": {
        "id": "0t4-wm8krDq1",
        "colab_type": "code",
        "colab": {
          "autoexec": {
            "startup": false,
            "wait_interval": 0
          }
        }
      },
      "cell_type": "code",
      "source": [
        ""
      ],
      "execution_count": 0,
      "outputs": []
    }
  ]
}